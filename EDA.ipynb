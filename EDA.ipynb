{
 "cells": [
  {
   "cell_type": "code",
   "execution_count": 3,
   "metadata": {},
   "outputs": [
    {
     "name": "stderr",
     "output_type": "stream",
     "text": [
      "Matplotlib is building the font cache; this may take a moment.\n"
     ]
    }
   ],
   "source": [
    "import pandas as pd\n",
    "import matplotlib.pyplot as plt\n",
    "import seaborn as sns\n",
    "from functions_EDA import *"
   ]
  },
  {
   "cell_type": "code",
   "execution_count": 4,
   "metadata": {},
   "outputs": [
    {
     "data": {
      "text/html": [
       "<div>\n",
       "<style scoped>\n",
       "    .dataframe tbody tr th:only-of-type {\n",
       "        vertical-align: middle;\n",
       "    }\n",
       "\n",
       "    .dataframe tbody tr th {\n",
       "        vertical-align: top;\n",
       "    }\n",
       "\n",
       "    .dataframe thead th {\n",
       "        text-align: right;\n",
       "    }\n",
       "</style>\n",
       "<table border=\"1\" class=\"dataframe\">\n",
       "  <thead>\n",
       "    <tr style=\"text-align: right;\">\n",
       "      <th></th>\n",
       "      <th>sex</th>\n",
       "      <th>age</th>\n",
       "      <th>level_education</th>\n",
       "      <th>country</th>\n",
       "      <th>year</th>\n",
       "      <th>value_unemployment</th>\n",
       "      <th>value_education</th>\n",
       "    </tr>\n",
       "  </thead>\n",
       "  <tbody>\n",
       "    <tr>\n",
       "      <th>0</th>\n",
       "      <td>Females</td>\n",
       "      <td>15-29</td>\n",
       "      <td>ESO</td>\n",
       "      <td>Austria</td>\n",
       "      <td>2014</td>\n",
       "      <td>15.7</td>\n",
       "      <td>27.9</td>\n",
       "    </tr>\n",
       "    <tr>\n",
       "      <th>1</th>\n",
       "      <td>Females</td>\n",
       "      <td>15-29</td>\n",
       "      <td>ESO</td>\n",
       "      <td>Austria</td>\n",
       "      <td>2015</td>\n",
       "      <td>15.3</td>\n",
       "      <td>27.5</td>\n",
       "    </tr>\n",
       "    <tr>\n",
       "      <th>2</th>\n",
       "      <td>Females</td>\n",
       "      <td>15-29</td>\n",
       "      <td>ESO</td>\n",
       "      <td>Austria</td>\n",
       "      <td>2016</td>\n",
       "      <td>17.1</td>\n",
       "      <td>27.3</td>\n",
       "    </tr>\n",
       "    <tr>\n",
       "      <th>3</th>\n",
       "      <td>Females</td>\n",
       "      <td>15-29</td>\n",
       "      <td>ESO</td>\n",
       "      <td>Austria</td>\n",
       "      <td>2017</td>\n",
       "      <td>16.8</td>\n",
       "      <td>27.2</td>\n",
       "    </tr>\n",
       "    <tr>\n",
       "      <th>4</th>\n",
       "      <td>Females</td>\n",
       "      <td>15-29</td>\n",
       "      <td>ESO</td>\n",
       "      <td>Austria</td>\n",
       "      <td>2018</td>\n",
       "      <td>13.4</td>\n",
       "      <td>27.1</td>\n",
       "    </tr>\n",
       "  </tbody>\n",
       "</table>\n",
       "</div>"
      ],
      "text/plain": [
       "       sex    age level_education  country  year  value_unemployment  \\\n",
       "0  Females  15-29             ESO  Austria  2014                15.7   \n",
       "1  Females  15-29             ESO  Austria  2015                15.3   \n",
       "2  Females  15-29             ESO  Austria  2016                17.1   \n",
       "3  Females  15-29             ESO  Austria  2017                16.8   \n",
       "4  Females  15-29             ESO  Austria  2018                13.4   \n",
       "\n",
       "   value_education  \n",
       "0             27.9  \n",
       "1             27.5  \n",
       "2             27.3  \n",
       "3             27.2  \n",
       "4             27.1  "
      ]
     },
     "execution_count": 4,
     "metadata": {},
     "output_type": "execute_result"
    }
   ],
   "source": [
    "# Cargar datos\n",
    "url = 'df_limpio.csv'\n",
    "df = cargar_datos(url)\n",
    "\n",
    "# Mostrar las primeras filas del DataFrame para ver cómo se cargaron los datos\n",
    "df.head()"
   ]
  },
  {
   "cell_type": "code",
   "execution_count": null,
   "metadata": {},
   "outputs": [],
   "source": []
  }
 ],
 "metadata": {
  "kernelspec": {
   "display_name": "ue_env",
   "language": "python",
   "name": "python3"
  },
  "language_info": {
   "codemirror_mode": {
    "name": "ipython",
    "version": 3
   },
   "file_extension": ".py",
   "mimetype": "text/x-python",
   "name": "python",
   "nbconvert_exporter": "python",
   "pygments_lexer": "ipython3",
   "version": "3.11.9"
  }
 },
 "nbformat": 4,
 "nbformat_minor": 2
}
